{
 "cells": [
  {
   "attachments": {},
   "cell_type": "markdown",
   "metadata": {},
   "source": [
    "# Practical Application III: Comparing Classifiers\n",
    "\n",
    "**Overview**: In this practical application, your goal is to compare the performance of the classifiers we encountered in this section, namely K Nearest Neighbor, Logistic Regression, Decision Trees, and Support Vector Machines.  We will utilize a dataset related to marketing bank products over the telephone.  \n",
    "\n"
   ]
  },
  {
   "attachments": {},
   "cell_type": "markdown",
   "metadata": {},
   "source": [
    "### Getting Started\n",
    "\n",
    "Our dataset comes from the UCI Machine Learning repository [link](https://archive.ics.uci.edu/ml/datasets/bank+marketing).  The data is from a Portugese banking institution and is a collection of the results of multiple marketing campaigns.  We will make use of the article accompanying the dataset [here](CRISP-DM-BANK.pdf) for more information on the data and features. 1.1\n",
    "\n"
   ]
  },
  {
   "attachments": {},
   "cell_type": "markdown",
   "metadata": {},
   "source": [
    "### Problem 1: Understanding the Data\n",
    "\n",
    "To gain a better understanding of the data, please read the information provided in the UCI link above, and examine the **Materials and Methods** section of the paper.  How many marketing campaigns does this data represent?"
   ]
  },
  {
   "attachments": {},
   "cell_type": "markdown",
   "metadata": {},
   "source": [
    "The dataset collected is related to 17 campaigns that occurred between May 2008 and November 2010, corresponding to a total of 79354 contacts. During these phone campaigns, an attractive long-term deposit application, with good interest rates, was offered. For each contact, a large number of attributes was stored and if there was a success (the target variable). There were 6499 successes (8% success rate)."
   ]
  },
  {
   "attachments": {},
   "cell_type": "markdown",
   "metadata": {},
   "source": [
    "### Problem 2: Read in the Data\n",
    "\n",
    "Use pandas to read in the dataset `bank-additional-full.csv` and assign to a meaningful variable name."
   ]
  },
  {
   "cell_type": "code",
   "execution_count": 1,
   "metadata": {},
   "outputs": [],
   "source": [
    "import pandas as pd\n",
    "import numpy as np\n",
    "import time\n",
    "\n",
    "import seaborn as sns\n",
    "import matplotlib.pyplot as plt\n",
    "\n",
    "from sklearn.model_selection import train_test_split\n",
    "from sklearn.preprocessing import StandardScaler\n",
    "from sklearn.preprocessing import LabelEncoder\n",
    "from sklearn.neighbors import KNeighborsClassifier\n",
    "from sklearn.linear_model import LogisticRegression\n",
    "from sklearn.tree import DecisionTreeClassifier\n",
    "from sklearn.svm import SVC\n",
    "\n",
    "from sklearn.ensemble import RandomForestClassifier\n",
    "\n",
    "from sklearn.model_selection import RandomizedSearchCV\n",
    "from sklearn.model_selection import GridSearchCV\n",
    "\n",
    "\n",
    "from scipy.stats import chi2_contingency\n",
    "from sklearn.metrics import accuracy_score, classification_report, confusion_matrix"
   ]
  },
  {
   "cell_type": "code",
   "execution_count": 2,
   "metadata": {},
   "outputs": [
    {
     "name": "stdout",
     "output_type": "stream",
     "text": [
      "<class 'pandas.core.frame.DataFrame'>\n",
      "RangeIndex: 41188 entries, 0 to 41187\n",
      "Data columns (total 21 columns):\n",
      " #   Column          Non-Null Count  Dtype  \n",
      "---  ------          --------------  -----  \n",
      " 0   age             41188 non-null  int64  \n",
      " 1   job             41188 non-null  object \n",
      " 2   marital         41188 non-null  object \n",
      " 3   education       41188 non-null  object \n",
      " 4   default         41188 non-null  object \n",
      " 5   housing         41188 non-null  object \n",
      " 6   loan            41188 non-null  object \n",
      " 7   contact         41188 non-null  object \n",
      " 8   month           41188 non-null  object \n",
      " 9   day_of_week     41188 non-null  object \n",
      " 10  duration        41188 non-null  int64  \n",
      " 11  campaign        41188 non-null  int64  \n",
      " 12  pdays           41188 non-null  int64  \n",
      " 13  previous        41188 non-null  int64  \n",
      " 14  poutcome        41188 non-null  object \n",
      " 15  emp.var.rate    41188 non-null  float64\n",
      " 16  cons.price.idx  41188 non-null  float64\n",
      " 17  cons.conf.idx   41188 non-null  float64\n",
      " 18  euribor3m       41188 non-null  float64\n",
      " 19  nr.employed     41188 non-null  float64\n",
      " 20  y               41188 non-null  object \n",
      "dtypes: float64(5), int64(5), object(11)\n",
      "memory usage: 6.6+ MB\n"
     ]
    }
   ],
   "source": [
    "Bank_marketing_campaigns_df = pd.read_csv('data/bank-additional-full.csv', sep = ';')\n",
    "\n",
    "Bank_marketing_campaigns_df.info()"
   ]
  },
  {
   "attachments": {},
   "cell_type": "markdown",
   "metadata": {},
   "source": [
    "### Problem 3: Understanding the Features\n",
    "\n",
    "\n",
    "Examine the data description below, and determine if any of the features are missing values or need to be coerced to a different data type.\n",
    "\n",
    "\n",
    "```\n",
    "Input variables:\n",
    "# bank client data:\n",
    "1 - age (numeric)\n",
    "2 - job : type of job (categorical: 'admin.','blue-collar','entrepreneur','housemaid','management','retired','self-employed','services','student','technician','unemployed','unknown')\n",
    "3 - marital : marital status (categorical: 'divorced','married','single','unknown'; note: 'divorced' means divorced or widowed)\n",
    "4 - education (categorical: 'basic.4y','basic.6y','basic.9y','high.school','illiterate','professional.course','university.degree','unknown')\n",
    "5 - default: has credit in default? (categorical: 'no','yes','unknown')\n",
    "6 - housing: has housing loan? (categorical: 'no','yes','unknown')\n",
    "7 - loan: has personal loan? (categorical: 'no','yes','unknown')\n",
    "# related with the last contact of the current campaign:\n",
    "8 - contact: contact communication type (categorical: 'cellular','telephone')\n",
    "9 - month: last contact month of year (categorical: 'jan', 'feb', 'mar', ..., 'nov', 'dec')\n",
    "10 - day_of_week: last contact day of the week (categorical: 'mon','tue','wed','thu','fri')\n",
    "11 - duration: last contact duration, in seconds (numeric). Important note: this attribute highly affects the output target (e.g., if duration=0 then y='no'). Yet, the duration is not known before a call is performed. Also, after the end of the call y is obviously known. Thus, this input should only be included for benchmark purposes and should be discarded if the intention is to have a realistic predictive model.\n",
    "# other attributes:\n",
    "12 - campaign: number of contacts performed during this campaign and for this client (numeric, includes last contact)\n",
    "13 - pdays: number of days that passed by after the client was last contacted from a previous campaign (numeric; 999 means client was not previously contacted)\n",
    "14 - previous: number of contacts performed before this campaign and for this client (numeric)\n",
    "15 - poutcome: outcome of the previous marketing campaign (categorical: 'failure','nonexistent','success')\n",
    "# social and economic context attributes\n",
    "16 - emp.var.rate: employment variation rate - quarterly indicator (numeric)\n",
    "17 - cons.price.idx: consumer price index - monthly indicator (numeric)\n",
    "18 - cons.conf.idx: consumer confidence index - monthly indicator (numeric)\n",
    "19 - euribor3m: euribor 3 month rate - daily indicator (numeric)\n",
    "20 - nr.employed: number of employees - quarterly indicator (numeric)\n",
    "\n",
    "Output variable (desired target):\n",
    "21 - y - has the client subscribed a term deposit? (binary: 'yes','no')\n",
    "```\n",
    "\n"
   ]
  },
  {
   "cell_type": "code",
   "execution_count": 3,
   "metadata": {},
   "outputs": [
    {
     "name": "stdout",
     "output_type": "stream",
     "text": [
      "age               0\n",
      "job               0\n",
      "marital           0\n",
      "education         0\n",
      "default           0\n",
      "housing           0\n",
      "loan              0\n",
      "contact           0\n",
      "month             0\n",
      "day_of_week       0\n",
      "duration          0\n",
      "campaign          0\n",
      "pdays             0\n",
      "previous          0\n",
      "poutcome          0\n",
      "emp.var.rate      0\n",
      "cons.price.idx    0\n",
      "cons.conf.idx     0\n",
      "euribor3m         0\n",
      "nr.employed       0\n",
      "y                 0\n",
      "dtype: int64\n",
      "<class 'pandas.core.frame.DataFrame'>\n",
      "RangeIndex: 41188 entries, 0 to 41187\n",
      "Data columns (total 21 columns):\n",
      " #   Column          Non-Null Count  Dtype  \n",
      "---  ------          --------------  -----  \n",
      " 0   age             41188 non-null  int64  \n",
      " 1   job             41188 non-null  object \n",
      " 2   marital         41188 non-null  object \n",
      " 3   education       41188 non-null  object \n",
      " 4   default         41188 non-null  object \n",
      " 5   housing         41188 non-null  object \n",
      " 6   loan            41188 non-null  object \n",
      " 7   contact         41188 non-null  object \n",
      " 8   month           41188 non-null  object \n",
      " 9   day_of_week     41188 non-null  object \n",
      " 10  duration        41188 non-null  int64  \n",
      " 11  campaign        41188 non-null  int64  \n",
      " 12  pdays           41188 non-null  int64  \n",
      " 13  previous        41188 non-null  int64  \n",
      " 14  poutcome        41188 non-null  object \n",
      " 15  emp.var.rate    41188 non-null  float64\n",
      " 16  cons.price.idx  41188 non-null  float64\n",
      " 17  cons.conf.idx   41188 non-null  float64\n",
      " 18  euribor3m       41188 non-null  float64\n",
      " 19  nr.employed     41188 non-null  float64\n",
      " 20  y               41188 non-null  object \n",
      "dtypes: float64(5), int64(5), object(11)\n",
      "memory usage: 6.6+ MB\n",
      "None\n"
     ]
    }
   ],
   "source": [
    "print(Bank_marketing_campaigns_df.isnull().sum())\n",
    "print(Bank_marketing_campaigns_df.info())"
   ]
  },
  {
   "attachments": {},
   "cell_type": "markdown",
   "metadata": {},
   "source": [
    "### Problem 4: Understanding the Task\n",
    "\n",
    "After examining the description and data, your goal now is to clearly state the *Business Objective* of the task.  State the objective below."
   ]
  },
  {
   "attachments": {},
   "cell_type": "markdown",
   "metadata": {},
   "source": [
    "#### To meet the business objective of improving marketing campaign efficiency and maintaining a similar number of successful outcomes with fewer contacts, the following tasks should be carried out:\n",
    "\n",
    "1. Clean and preprocess the data to handle missing values, inconsistencies, and categorical variables.\n",
    "2. Perform feature engineering and selection to identify the most relevant features for modeling.\n",
    "3. Split the data into training and testing sets to evaluate model performance on unseen data.\n",
    "4. Select and train appropriate classification models, such as logistic regression, decision trees, or support vector machines.\n",
    "5. Optimize model hyperparameters using techniques like cross-validation, grid search, or randomized search.\n",
    "6. Evaluate and compare model performance using relevant metrics to select the best model(s) for deployment.\n",
    "7. Interpret the selected model(s) to understand important features and refine marketing strategies.\n",
    "8. Deploy the model(s) in a production environment to support decision-making and optimize marketing campaigns.\n",
    "9. Monitor and maintain the deployed model(s) to ensure continued performance in line with business objectives.\n",
    "\n",
    "By performing these tasks, you can work towards enhancing the efficiency of marketing campaigns and achieving a similar number of successful customer subscriptions with reduced contact efforts."
   ]
  },
  {
   "attachments": {},
   "cell_type": "markdown",
   "metadata": {},
   "source": [
    "### Problem 5: Engineering Features\n",
    "\n",
    "Now that you understand your business objective, we will build a basic model to get started.  Before we can do this, we must work to encode the data.  Using just the bank information features (columns 1 - 7), prepare the features and target column for modeling with appropriate encoding and transformations."
   ]
  },
  {
   "attachments": {},
   "cell_type": "markdown",
   "metadata": {},
   "source": [
    " Perform statistical tests to determine the association between each categorical feature and the target variable. I haved used the Chi-squared test to assess the independence between a categorical feature and the target variable. A low p-value from the Chi-squared test suggests that the categorical feature and the target variable are dependent, which could make the feature useful for your model."
   ]
  },
  {
   "cell_type": "code",
   "execution_count": 4,
   "metadata": {},
   "outputs": [
    {
     "name": "stdout",
     "output_type": "stream",
     "text": [
      "Categorical features: ['job', 'marital', 'education', 'default', 'housing', 'loan', 'contact', 'month', 'day_of_week', 'poutcome', 'y']\n",
      "job - p-value: 4.189763287563623e-199\n",
      "marital - p-value: 2.068014648442211e-26\n",
      "education - p-value: 3.3051890144025054e-38\n",
      "default - p-value: 5.161957951391637e-89\n",
      "housing - p-value: 0.05829447669453452\n",
      "loan - p-value: 0.5786752870441754\n",
      "contact - p-value: 1.525985652312996e-189\n",
      "month - p-value: 0.0\n",
      "day_of_week - p-value: 2.958482005278532e-05\n",
      "poutcome - p-value: 0.0\n",
      "y - p-value: 0.0\n",
      "Selected Categorical features: ['housing', 'loan']\n",
      "Based on data we will drop features: ['housing', 'loan'] that has no relevnes due to soce grter or equil than 0.05\n"
     ]
    }
   ],
   "source": [
    "Bank_marketing_campaigns_df = Bank_marketing_campaigns_df.convert_dtypes()\n",
    "categorical_features = list(Bank_marketing_campaigns_df.select_dtypes(include=['string']).columns)\n",
    "\n",
    "print(\"Categorical features:\", categorical_features)\n",
    "\n",
    "\n",
    "rel_feature_list = []\n",
    "for feature in categorical_features:\n",
    "    contingency_table = pd.crosstab(Bank_marketing_campaigns_df[feature], Bank_marketing_campaigns_df['y'])\n",
    "    chi2, p, dof, ex = chi2_contingency(contingency_table)\n",
    "    rel_feature_list += [feature] if p >= 0.05 else []\n",
    "    print(f\"{feature} - p-value: {p}\")\n",
    "print(\"Selected Categorical features:\", rel_feature_list)\n",
    "print(f\"Based on data we will drop features: {rel_feature_list} that has no relevnes due to soce grter or equil than 0.05\")\n",
    "\n",
    "Bank_marketing_campaigns_df.drop(rel_feature_list, axis=1, inplace=True)"
   ]
  },
  {
   "cell_type": "code",
   "execution_count": 5,
   "metadata": {},
   "outputs": [
    {
     "name": "stdout",
     "output_type": "stream",
     "text": [
      "Categorical features: ['age', 'job', 'marital', 'education', 'default', 'contact', 'month', 'day_of_week', 'duration', 'campaign', 'pdays', 'previous', 'poutcome', 'emp.var.rate', 'cons.price.idx', 'cons.conf.idx', 'euribor3m', 'nr.employed', 'y']\n"
     ]
    }
   ],
   "source": [
    "df = Bank_marketing_campaigns_df\n",
    "categorical_features = list(Bank_marketing_campaigns_df.columns)\n",
    "print(\"Categorical features:\", categorical_features)\n",
    "# for feature in categorical_features:\n",
    "#     plt.figure(figsize=(10, 5))\n",
    "#     sns.countplot(data=df, x=feature, hue='y')\n",
    "#     plt.title(f'{feature} vs Target= Yes/No')\n",
    "#     plt.show()\n",
    "#     print(\"Selected feature name:\", feature)"
   ]
  },
  {
   "attachments": {},
   "cell_type": "markdown",
   "metadata": {},
   "source": [
    "Based on the visualization of relationships between each feature and the target variable, the plots reveal that the following columns may not have a significant effect on the machine learning model:\n",
    "day_of_week and pdays,\n",
    "\n",
    "we will drop them to increase processing te performance\n"
   ]
  },
  {
   "cell_type": "code",
   "execution_count": 6,
   "metadata": {},
   "outputs": [
    {
     "name": "stdout",
     "output_type": "stream",
     "text": [
      "Categorical features: ['job', 'marital', 'education', 'default', 'contact', 'month', 'poutcome', 'y']\n"
     ]
    }
   ],
   "source": [
    "Bank_marketing_campaigns_df.drop(['pdays','day_of_week'], axis=1, inplace=True)\n",
    "categorical_features = list(Bank_marketing_campaigns_df.select_dtypes(include=['string']).columns)\n",
    "print(\"Categorical features:\", categorical_features)"
   ]
  },
  {
   "cell_type": "code",
   "execution_count": 7,
   "metadata": {},
   "outputs": [],
   "source": [
    "# for feature_1 in categorical_features:\n",
    "#     for feature_2 in categorical_features:\n",
    "#         if feature_1 != feature_2:\n",
    "#             # Create a crosstab of the two categorical features\n",
    "#             crosstab = pd.crosstab(Bank_marketing_campaigns_df[feature_1], Bank_marketing_campaigns_df[feature_2])\n",
    "\n",
    "#             # Normalize crosstab to show proportions\n",
    "#             crosstab_norm = crosstab / crosstab.sum().sum()\n",
    "\n",
    "#             # Create a heatmap\n",
    "#             plt.figure(figsize=(10, 5))\n",
    "#             sns.heatmap(crosstab_norm, annot=True, fmt=\".2f\", cmap=\"coolwarm\")\n",
    "#             plt.xlabel(feature_2)\n",
    "#             plt.ylabel(feature_1)\n",
    "#             plt.title(f\"{feature_1} vs {feature_2}\")\n",
    "#             plt.show()"
   ]
  },
  {
   "cell_type": "code",
   "execution_count": 8,
   "metadata": {},
   "outputs": [
    {
     "name": "stdout",
     "output_type": "stream",
     "text": [
      "           feature  importance\n",
      "7         duration    0.350790\n",
      "14       euribor3m    0.129973\n",
      "0              age    0.107243\n",
      "15     nr.employed    0.072720\n",
      "1              job    0.053606\n",
      "8         campaign    0.048337\n",
      "3        education    0.047988\n",
      "10        poutcome    0.041034\n",
      "13   cons.conf.idx    0.027781\n",
      "2          marital    0.026105\n",
      "12  cons.price.idx    0.021795\n",
      "11    emp.var.rate    0.017728\n",
      "6            month    0.017546\n",
      "9         previous    0.016641\n",
      "5          contact    0.010864\n",
      "4          default    0.009850\n"
     ]
    }
   ],
   "source": [
    "df = Bank_marketing_campaigns_df\n",
    "# Encode categorical features using LabelEncoder\n",
    "le = LabelEncoder()\n",
    "data_encoded = df.copy()\n",
    "for feature in categorical_features:\n",
    "    data_encoded[feature] = le.fit_transform(df[feature])\n",
    "\n",
    "# Separate features and target variable\n",
    "X = data_encoded.drop('y', axis=1)\n",
    "y = data_encoded['y']\n",
    "\n",
    "# Train a random forest classifier\n",
    "clf = RandomForestClassifier()\n",
    "clf.fit(X, y)\n",
    "\n",
    "# Display feature importances\n",
    "importances = pd.DataFrame({'feature': X.columns, 'importance': clf.feature_importances_})\n",
    "importances = importances.sort_values('importance', ascending=False)\n",
    "print(importances)\n"
   ]
  },
  {
   "attachments": {},
   "cell_type": "markdown",
   "metadata": {},
   "source": [
    "### Problem 6: Train/Test Split\n",
    "\n",
    "With your data prepared, split it into a train and test set."
   ]
  },
  {
   "cell_type": "code",
   "execution_count": 9,
   "metadata": {},
   "outputs": [],
   "source": [
    "\n",
    "\n",
    "# Separate features and target variable\n",
    "X = data_encoded.drop('y', axis=1)\n",
    "y = data_encoded['y']\n",
    "\n",
    "# Split the dataset into training and testing sets\n",
    "X_train, X_test, y_train, y_test = train_test_split(X, y, test_size=0.3, random_state=42)\n",
    "\n",
    "# Standardize or normalize the features\n",
    "scaler = StandardScaler()\n",
    "X_train = scaler.fit_transform(X_train)\n",
    "X_test = scaler.transform(X_test)"
   ]
  },
  {
   "attachments": {},
   "cell_type": "markdown",
   "metadata": {},
   "source": [
    "### Problem 7: A Baseline Model\n",
    "\n",
    "Before we build our first model, we want to establish a baseline.  What is the baseline performance that our classifier should aim to beat?"
   ]
  },
  {
   "cell_type": "code",
   "execution_count": 10,
   "metadata": {},
   "outputs": [
    {
     "name": "stdout",
     "output_type": "stream",
     "text": [
      "Baseline Accuracy (Majority Class Classifier  where customer will not excpet the offer is): 0.8876\n",
      "Baseline Accuracy (Minority Class Classifier  where customer will  excpet the offer is): 0.1124\n"
     ]
    }
   ],
   "source": [
    "\n",
    "# value_counts = y_train.value_counts()\n",
    "# print((100*value_counts[1])/(value_counts[0]+ value_counts[1])  )\n",
    "# print((100*value_counts[0])/(value_counts[0]+ value_counts[1])  )\n",
    "\n",
    "# Determine the majority class in the training dataset\n",
    "majority_class = y_train.value_counts().idxmax()\n",
    "\n",
    "# Predict the majority class for all samples in the test dataset\n",
    "y_pred_baseline = [majority_class] * len(y_test)\n",
    "\n",
    "# Calculate the accuracy of the baseline classifier\n",
    "baseline_accuracy = accuracy_score(y_test, y_pred_baseline)\n",
    "\n",
    "print(f\"Baseline Accuracy (Majority Class Classifier  where customer will not excpet the offer is): {baseline_accuracy:.4f}\")\n",
    "\n",
    "print(f\"Baseline Accuracy (Minority Class Classifier  where customer will  excpet the offer is): {1 - baseline_accuracy:.4f}\")\n"
   ]
  },
  {
   "attachments": {},
   "cell_type": "markdown",
   "metadata": {},
   "source": [
    "Based on our test data \n",
    "Baseline Accuracy (Majority Class Classifier  where customer will not excpet the offer is): 0.8876\n",
    "Baseline Accuracy (Minority Class Classifier  where customer will  excpet the offer is): 0.1124\n"
   ]
  },
  {
   "attachments": {},
   "cell_type": "markdown",
   "metadata": {},
   "source": [
    "### Problem 8: A Simple Model\n",
    "\n",
    "Use Logistic Regression to build a basic model on your data.  "
   ]
  },
  {
   "cell_type": "code",
   "execution_count": 11,
   "metadata": {},
   "outputs": [],
   "source": [
    "\n",
    "logistic_regression = LogisticRegression()\n",
    "logistic_regression.fit(X_train, y_train)\n",
    "y_pred = logistic_regression.predict(X_test)"
   ]
  },
  {
   "cell_type": "code",
   "execution_count": 12,
   "metadata": {},
   "outputs": [
    {
     "name": "stdout",
     "output_type": "stream",
     "text": [
      "Accuracy: 0.9102\n",
      "Classification Report:\n",
      "              precision    recall  f1-score   support\n",
      "\n",
      "           0       0.93      0.97      0.95     10968\n",
      "           1       0.67      0.40      0.50      1389\n",
      "\n",
      "    accuracy                           0.91     12357\n",
      "   macro avg       0.80      0.69      0.73     12357\n",
      "weighted avg       0.90      0.91      0.90     12357\n",
      "\n",
      "Confusion Matrix:\n",
      "[[10690   278]\n",
      " [  832   557]]\n"
     ]
    }
   ],
   "source": [
    "accuracy = accuracy_score(y_test, y_pred)\n",
    "report = classification_report(y_test, y_pred, zero_division=1)\n",
    "conf_matrix = confusion_matrix(y_test, y_pred)\n",
    "\n",
    "print(f\"Accuracy: {accuracy:.4f}\")\n",
    "print(\"Classification Report:\")\n",
    "print(report)\n",
    "print(\"Confusion Matrix:\")\n",
    "print(conf_matrix)"
   ]
  },
  {
   "attachments": {},
   "cell_type": "markdown",
   "metadata": {},
   "source": [
    "### Problem 9: Score the Model\n",
    "\n",
    "What is the accuracy of our logistic_regression model?\n",
    "\n",
    "The accuracy of a model is a performance metric that measures the proportion of correct predictions made by the model out of the total number of predictions. In other words, it is the ratio of the number of correct predictions to the total number of predictions made. Accuracy is commonly used to evaluate the performance of classification models.\n",
    "\n",
    "Accuracy: 0.9102\n",
    "Classification Report:\n",
    "              precision    recall  f1-score   support\n",
    "\n",
    "           0       0.93      0.97      0.95     10968\n",
    "           1       0.67      0.40      0.50      1389\n",
    "\n",
    "    accuracy                           0.91     12357\n",
    "   macro avg       0.80      0.69      0.73     12357\n",
    "weighted avg       0.90      0.91      0.90     12357\n",
    "\n",
    "Confusion Matrix:\n",
    "[[10690   278] [  832   557]]\n"
   ]
  },
  {
   "attachments": {},
   "cell_type": "markdown",
   "metadata": {},
   "source": [
    "### Problem 10: Model Comparisons\n",
    "\n",
    "Now, we aim to compare the performance of the Logistic Regression model to our KNN algorithm, Decision Tree, and SVM models.  Using the default settings for each of the models, fit and score each.  Also, be sure to compare the fit time of each of the models.  Present your findings in a `DataFrame` similar to that below:\n",
    "\n",
    "| Model | Train Time | Train Accuracy | Test Accuracy |\n",
    "| ----- | ---------- | -------------  | -----------   |\n",
    "|     |    |.     |.     |"
   ]
  },
  {
   "cell_type": "code",
   "execution_count": 13,
   "metadata": {},
   "outputs": [],
   "source": [
    "logistic_regression = LogisticRegression()\n",
    "knn = KNeighborsClassifier()\n",
    "decision_tree = DecisionTreeClassifier()\n",
    "svm = SVC()"
   ]
  },
  {
   "cell_type": "code",
   "execution_count": 14,
   "metadata": {},
   "outputs": [],
   "source": [
    "models = [\n",
    "    (\"Logistic Regression\", logistic_regression),\n",
    "    (\"KNN\", knn),\n",
    "    (\"Decision Tree\", decision_tree),\n",
    "    (\"SVM\", svm),\n",
    "]"
   ]
  },
  {
   "cell_type": "code",
   "execution_count": 15,
   "metadata": {},
   "outputs": [],
   "source": [
    "results = []\n",
    "\n",
    "for name, model in models:\n",
    "    start_time = time.time()\n",
    "    model.fit(X_train, y_train)\n",
    "    Train_Time = time.time() - start_time\n",
    "\n",
    "    y_pred = model.predict(X_test)\n",
    "    accuracy = accuracy_score(y_test, y_pred)\n",
    "    \n",
    "    y_train_pred = model.predict(X_train)\n",
    "    train_accuracy = accuracy_score(y_train, y_train_pred)\n",
    "\n",
    "    y_test_pred = model.predict(X_test)\n",
    "    test_accuracy = accuracy_score(y_test, y_test_pred)\n",
    "\n",
    "    results.append((name, Train_Time, accuracy, train_accuracy,test_accuracy))"
   ]
  },
  {
   "cell_type": "code",
   "execution_count": 16,
   "metadata": {},
   "outputs": [
    {
     "name": "stdout",
     "output_type": "stream",
     "text": [
      "                 Model  Train Time  Accuracy  Train Accuracy  Test Accuracy\n",
      "3                  SVM    5.860330  0.911791        0.918248       0.911791\n",
      "0  Logistic Regression    0.037034  0.910172        0.909091       0.910172\n",
      "1                  KNN    0.002001  0.900461        0.930041       0.900461\n",
      "2        Decision Tree    0.102093  0.888241        1.000000       0.888241\n"
     ]
    }
   ],
   "source": [
    "results_df = pd.DataFrame(results, columns=[\"Model\",\"Train Time\",\"Accuracy\",\"Train Accuracy\",\"Test Accuracy\"])\n",
    "results_df = results_df.sort_values('Accuracy', ascending=False)\n",
    "print(results_df)"
   ]
  },
  {
   "attachments": {},
   "cell_type": "markdown",
   "metadata": {},
   "source": [
    "### Problem 11: Improving the Model\n",
    "\n",
    "Now that we have some basic models on the board, we want to try to improve these.  Below, we list a few things to explore in this pursuit.\n",
    "\n",
    "- More feature engineering and exploration.  For example, should we keep the gender feature?  Why or why not?\n",
    "- Hyperparameter tuning and grid search.  All of our models have additional hyperparameters to tune and explore.  For example the number of neighbors in KNN or the maximum depth of a Decision Tree.  \n",
    "- Adjust your performance metric"
   ]
  },
  {
   "cell_type": "code",
   "execution_count": null,
   "metadata": {},
   "outputs": [],
   "source": []
  },
  {
   "cell_type": "code",
   "execution_count": 17,
   "metadata": {},
   "outputs": [],
   "source": [
    "logistic_regression_params = {\n",
    "    'C': [0.001, 0.01, 0.1, 1, 10, 100],\n",
    "    'penalty': ['l1', 'l2'],\n",
    "    'solver': ['liblinear']\n",
    "}\n",
    "\n",
    "knn_params = {\n",
    "    'n_neighbors': range(1, 31),\n",
    "    'weights': ['uniform', 'distance'],\n",
    "    'metric': ['euclidean', 'manhattan']\n",
    "}\n",
    "\n",
    "decision_tree_params = {\n",
    "    'criterion': ['gini', 'entropy'],\n",
    "    'max_depth': range(1, 11),\n",
    "    'min_samples_split': range(2, 21),\n",
    "    'min_samples_leaf': range(1, 21)\n",
    "}\n",
    "\n",
    "svm_params = {\n",
    "    'C': [0.1, 1, 10, 100],\n",
    "    'kernel': ['linear', 'rbf'],\n",
    "    'gamma': ['scale', 'auto']\n",
    "}"
   ]
  },
  {
   "cell_type": "code",
   "execution_count": 18,
   "metadata": {},
   "outputs": [],
   "source": [
    "models = [\n",
    "    (\"Logistic Regression\", logistic_regression, logistic_regression_params),\n",
    "    (\"KNN\", knn, knn_params),\n",
    "    (\"Decision Tree\", decision_tree, decision_tree_params),\n",
    "    (\"SVM\", svm, svm_params),\n",
    "]\n",
    "\n",
    "# models1 = [\n",
    "#     (\"Logistic Regression\", logistic_regression, logistic_regression_params),\n",
    "#     (\"KNN\", knn, knn_params),\n",
    "#     (\"Decision Tree\", decision_tree, decision_tree_params),\n",
    "    \n",
    "# ]"
   ]
  },
  {
   "cell_type": "code",
   "execution_count": 19,
   "metadata": {},
   "outputs": [],
   "source": [
    "tuned_results = []\n",
    "\n",
    "for name, model, params in models:\n",
    "    \n",
    "    grid_search = GridSearchCV(estimator=model, param_grid=params, cv=5, scoring='accuracy', n_jobs=-1)\n",
    "    start_time = time.time()\n",
    "    grid_search.fit(X_train, y_train)\n",
    "    Train_Time = time.time() - start_time\n",
    "\n",
    "    best_params = grid_search.best_params_\n",
    "    best_score = grid_search.best_score_\n",
    "\n",
    "    tuned_results.append((model, Train_Time, best_params, best_score))\n",
    "   "
   ]
  },
  {
   "cell_type": "code",
   "execution_count": null,
   "metadata": {},
   "outputs": [
    {
     "name": "stdout",
     "output_type": "stream",
     "text": [
      "[(LogisticRegression(), 8.449693441390991, {'C': 0.1, 'penalty': 'l2', 'solver': 'liblinear'}, 0.9092644160945145), (KNeighborsClassifier(), 80.50154304504395, {'metric': 'euclidean', 'n_neighbors': 30, 'weights': 'distance'}, 0.9071139927371524), (DecisionTreeClassifier(), 159.27241444587708, {'criterion': 'gini', 'max_depth': 5, 'min_samples_leaf': 2, 'min_samples_split': 3}, 0.9139123342283633), (SVC(), 646.305481672287, {'C': 10, 'gamma': 'scale', 'kernel': 'rbf'}, 0.9093339867574555)]\n",
      "                      Model  Tranning time  \\\n",
      "0      LogisticRegression()       8.449693   \n",
      "1    KNeighborsClassifier()      80.501543   \n",
      "2  DecisionTreeClassifier()     159.272414   \n",
      "3                     SVC()     646.305482   \n",
      "\n",
      "                                     Best_Parameters  Best Score  \n",
      "0  {'C': 0.1, 'penalty': 'l2', 'solver': 'libline...    0.909264  \n",
      "1  {'metric': 'euclidean', 'n_neighbors': 30, 'we...    0.907114  \n",
      "2  {'criterion': 'gini', 'max_depth': 5, 'min_sam...    0.913912  \n",
      "3       {'C': 10, 'gamma': 'scale', 'kernel': 'rbf'}    0.909334  \n",
      "0    {'C': 0.1, 'penalty': 'l2', 'solver': 'libline...\n",
      "1    {'metric': 'euclidean', 'n_neighbors': 30, 'we...\n",
      "2    {'criterion': 'gini', 'max_depth': 5, 'min_sam...\n",
      "3         {'C': 10, 'gamma': 'scale', 'kernel': 'rbf'}\n",
      "Name: Best_Parameters, dtype: string\n"
     ]
    }
   ],
   "source": [
    "print(tuned_results)\n",
    "tuned_results_df = pd.DataFrame(tuned_results, columns=[\"Model\", \"Tranning time\", \"Best_Parameters\", \"Best Score\"])\n",
    "tuned_results_df = tuned_results_df.astype({'Best_Parameters':'string'})\n",
    "print(tuned_results_df)\n",
    "\n",
    "print(tuned_results_df.Best_Parameters)\n"
   ]
  },
  {
   "cell_type": "code",
   "execution_count": null,
   "metadata": {},
   "outputs": [],
   "source": [
    "logistic_regression_params = {\n",
    "    'C': [0.001, 0.01, 0.1, 1, 10, 100],\n",
    "    'penalty': ['l1', 'l2'],\n",
    "    'solver': ['liblinear']\n",
    "     \n",
    "}\n",
    "\n",
    "knn_params = {\n",
    "    'n_neighbors': range(1, 31),\n",
    "    'weights': ['uniform', 'distance'],\n",
    "    'metric': ['euclidean', 'manhattan']\n",
    "    \n",
    "}\n",
    "\n",
    "decision_tree_params = {\n",
    "    'criterion': ['gini', 'entropy'],\n",
    "    'max_depth': range(1, 11),\n",
    "    'min_samples_split': range(2, 21),\n",
    "    'min_samples_leaf': range(1, 21)\n",
    "    \n",
    "}\n",
    "\n",
    "svm_params = {\n",
    "    'C': [0.1, 1, 10, 100],\n",
    "    'kernel': ['linear', 'rbf'],\n",
    "    'gamma': ['scale', 'auto']\n",
    "    \n",
    "}"
   ]
  },
  {
   "cell_type": "code",
   "execution_count": null,
   "metadata": {},
   "outputs": [],
   "source": [
    "models = [\n",
    "    (\"Logistic Regression\", logistic_regression, logistic_regression_params),\n",
    "    (\"KNN\", knn, knn_params),\n",
    "    (\"Decision Tree\", decision_tree, decision_tree_params),\n",
    "    (\"SVM\", svm, svm_params),\n",
    "]"
   ]
  },
  {
   "cell_type": "code",
   "execution_count": null,
   "metadata": {},
   "outputs": [
    {
     "name": "stdout",
     "output_type": "stream",
     "text": [
      "12\n",
      "50\n",
      "50\n",
      "16\n"
     ]
    }
   ],
   "source": [
    "tuned_results_randomized = []\n",
    "\n",
    "n_iter_pram = [12,50,50,16]\n",
    "Index  = 0\n",
    "\n",
    "for name, model, params in models:\n",
    "    \n",
    "    print(n_iter_pram[Index])\n",
    "    randomized_search = RandomizedSearchCV(estimator=model, param_distributions=params, n_iter = n_iter_pram[Index], cv=5, scoring='accuracy', n_jobs=-1, random_state=42)\n",
    "    Index = Index + 1\n",
    "    start_time = time.time()\n",
    "    randomized_search.fit(X_train, y_train)\n",
    "    Train_Time = time.time() - start_time\n",
    "    \n",
    "\n",
    "    best_params = randomized_search.best_params_\n",
    "    best_score = randomized_search.best_score_\n",
    "  \n",
    "    tuned_results_randomized.append((model,Train_Time, best_params, best_score))"
   ]
  },
  {
   "cell_type": "code",
   "execution_count": null,
   "metadata": {},
   "outputs": [],
   "source": []
  },
  {
   "cell_type": "code",
   "execution_count": null,
   "metadata": {},
   "outputs": [
    {
     "name": "stdout",
     "output_type": "stream",
     "text": [
      "[(LogisticRegression(), 12.304203510284424, {'solver': 'liblinear', 'penalty': 'l2', 'C': 0.1}, 0.9092644160945145), (KNeighborsClassifier(), 33.20220994949341, {'weights': 'distance', 'n_neighbors': 28, 'metric': 'euclidean'}, 0.9068018479921613), (DecisionTreeClassifier(), 1.506371259689331, {'min_samples_split': 15, 'min_samples_leaf': 9, 'max_depth': 5, 'criterion': 'gini'}, 0.9137735898648529), (SVC(), 684.0022418498993, {'kernel': 'rbf', 'gamma': 'scale', 'C': 10}, 0.9093339867574555)]\n",
      "[(LogisticRegression(), 8.449693441390991, {'C': 0.1, 'penalty': 'l2', 'solver': 'liblinear'}, 0.9092644160945145), (KNeighborsClassifier(), 80.50154304504395, {'metric': 'euclidean', 'n_neighbors': 30, 'weights': 'distance'}, 0.9071139927371524), (DecisionTreeClassifier(), 159.27241444587708, {'criterion': 'gini', 'max_depth': 5, 'min_samples_leaf': 2, 'min_samples_split': 3}, 0.9139123342283633), (SVC(), 646.305481672287, {'C': 10, 'gamma': 'scale', 'kernel': 'rbf'}, 0.9093339867574555)]\n",
      "                      Model  Train_Time  \\\n",
      "0      LogisticRegression()   12.304204   \n",
      "1    KNeighborsClassifier()   33.202210   \n",
      "2  DecisionTreeClassifier()    1.506371   \n",
      "3                     SVC()  684.002242   \n",
      "\n",
      "                                     Best Parameters  Best Score  \n",
      "0  {'solver': 'liblinear', 'penalty': 'l2', 'C': ...    0.909264  \n",
      "1  {'weights': 'distance', 'n_neighbors': 28, 'me...    0.906802  \n",
      "2  {'min_samples_split': 15, 'min_samples_leaf': ...    0.913774  \n",
      "3       {'kernel': 'rbf', 'gamma': 'scale', 'C': 10}    0.909334  \n"
     ]
    }
   ],
   "source": [
    "print(tuned_results_randomized)\n",
    "print(tuned_results)\n",
    "\n",
    "tuned_results_randomized_df = pd.DataFrame(tuned_results_randomized, columns=[\"Model\", \"Train_Time\",\"Best Parameters\", \"Best Score\"])\n",
    "print(tuned_results_randomized_df)"
   ]
  },
  {
   "cell_type": "code",
   "execution_count": null,
   "metadata": {},
   "outputs": [],
   "source": []
  },
  {
   "cell_type": "code",
   "execution_count": null,
   "metadata": {},
   "outputs": [],
   "source": []
  },
  {
   "attachments": {},
   "cell_type": "markdown",
   "metadata": {},
   "source": [
    "##### Questions"
   ]
  },
  {
   "attachments": {},
   "cell_type": "markdown",
   "metadata": {},
   "source": [
    "create a function that implements the selected model and returns the target value\n",
    "\n",
    "1. Train the chosen model with the optimal hyperparameters on the entire dataset."
   ]
  },
  {
   "cell_type": "code",
   "execution_count": null,
   "metadata": {},
   "outputs": [],
   "source": [
    "import numpy as np\n",
    "import pandas as pd\n",
    "import ast\n",
    "from sklearn.preprocessing import StandardScaler, OneHotEncoder\n",
    "from sklearn.compose import ColumnTransformer\n",
    "from sklearn.pipeline import Pipeline\n",
    "\n",
    "BMC_test_df =  pd.read_csv('data/bank-additional.csv', sep = ';')\n",
    "BMC_test_df = BMC_test_df.convert_dtypes()\n",
    "\n",
    "\n",
    "BMC_test_df.drop(['pdays','day_of_week','housing', 'loan'], axis=1, inplace=True)\n",
    "\n",
    "\n"
   ]
  },
  {
   "cell_type": "code",
   "execution_count": null,
   "metadata": {},
   "outputs": [
    {
     "name": "stdout",
     "output_type": "stream",
     "text": [
      "LR Model accuracy: 0.9077669902912622\n",
      "KNN Model accuracy: 0.9077669902912622\n",
      "DT Model accuracy: 0.8972491909385113\n",
      "SVM Model accuracy: 0.9053398058252428\n"
     ]
    }
   ],
   "source": [
    "df = BMC_test_df.copy()\n",
    "# Encode categorical features using LabelEncoder\n",
    "le = LabelEncoder()\n",
    "data_encoded = df.copy()\n",
    "for feature in categorical_features:\n",
    "    data_encoded[feature] = le.fit_transform(df[feature])\n",
    "\n",
    "\n",
    "X = data_encoded.drop('y', axis=1)\n",
    "y = data_encoded['y']\n",
    "\n",
    "# Split the dataset into training and testing sets\n",
    "X_train, X_test, y_train, y_test = train_test_split(X, y, test_size=0.3, random_state=42)\n",
    "\n",
    "\n",
    "\n",
    "logistic_regression = LogisticRegression()\n",
    "knn = KNeighborsClassifier()\n",
    "decision_tree = DecisionTreeClassifier()\n",
    "svm = SVC()\n",
    "\n",
    "logistic_regression_params = {'C': 0.1, 'penalty': 'l2', 'solver': 'liblinear'}\n",
    "knn_params = {'metric': 'euclidean', 'n_neighbors': 30, 'weights': 'distance'}\n",
    "decision_tree_params = {'criterion': 'gini', 'max_depth': 5, 'min_samples_leaf': 2, 'min_samples_split': 3}\n",
    "svm_params =  {'C': 10, 'gamma': 'scale', 'kernel': 'rbf'}\n",
    "\n",
    "\n",
    "# Standardize or normalize the features\n",
    "scaler = StandardScaler()\n",
    "X_train = scaler.fit_transform(X_train)\n",
    "X_test = scaler.transform(X_test)\n",
    "\n",
    "LR_best_model = LogisticRegression(**logistic_regression_params)\n",
    "LR_best_model.fit(X_train, y_train)\n",
    "\n",
    "y_pred = LR_best_model.predict(X_test)\n",
    "accuracy = accuracy_score(y_test, y_pred)\n",
    "print(f\"LR Model accuracy: {accuracy}\")\n",
    "\n",
    "\n",
    "KNN_best_model = KNeighborsClassifier(**knn_params)\n",
    "KNN_best_model.fit(X_train, y_train)\n",
    "\n",
    "y_pred = KNN_best_model.predict(X_test)\n",
    "accuracy = accuracy_score(y_test, y_pred)\n",
    "print(f\"KNN Model accuracy: {accuracy}\")\n",
    "\n",
    "DT_best_model = DecisionTreeClassifier(**decision_tree_params)\n",
    "DT_best_model.fit(X_train, y_train)\n",
    "\n",
    "y_pred = DT_best_model.predict(X_test)\n",
    "accuracy = accuracy_score(y_test, y_pred)\n",
    "print(f\"DT Model accuracy: {accuracy}\")\n",
    "\n",
    "\n",
    "SVM_best_model = SVC(**svm_params)\n",
    "SVM_best_model.fit(X_train, y_train)\n",
    "\n",
    "y_pred = SVM_best_model.predict(X_test)\n",
    "accuracy = accuracy_score(y_test, y_pred)\n",
    "print(f\"SVM Model accuracy: {accuracy}\")\n",
    "\n",
    "best_model = LR_best_model\n",
    "\n",
    "\n",
    "# def predict_target_value(input_features):\n",
    "#     reprocessed_features = preprocess(input_features)\n",
    "#     predicted_target = best_model.predict(preprocessed_features)\n",
    "#     return predicted_target\n"
   ]
  },
  {
   "cell_type": "code",
   "execution_count": null,
   "metadata": {},
   "outputs": [
    {
     "name": "stdout",
     "output_type": "stream",
     "text": [
      "[[ 0.76531368 -1.06479623 -1.91958888  1.04372839 -0.48771952 -0.73825204\n",
      "  -1.4224708   1.16164424 -0.6055669  -0.35930381  0.19491421 -1.12287967\n",
      "   0.77642508  0.46152546 -1.55627235 -2.34755585]\n",
      " [-0.49454451  0.88005423 -0.28467758 -0.82322923 -0.48771952  1.35455094\n",
      "  -0.13041557 -0.61166426 -0.6055669  -0.35930381  0.19491421  0.84691492\n",
      "   1.5283521  -0.29613286  0.77606689  0.84081032]]\n",
      "[0 0 1 ... 0 0 0]\n",
      "SVM Model accuracy: 0.9628858827610128\n"
     ]
    }
   ],
   "source": [
    "SVM_best_model = SVC(**svm_params)\n",
    "SVM_best_model.fit(X_train, y_train)\n",
    "print(X_test[0:2])\n",
    "y_pred = SVM_best_model.predict(X_train)\n",
    "print(y_pred)\n",
    "accuracy = accuracy_score(y_train, y_pred)\n",
    "print(f\"SVM Model accuracy: {accuracy}\")"
   ]
  }
 ],
 "metadata": {
  "kernelspec": {
   "display_name": "Python 3",
   "language": "python",
   "name": "python3"
  },
  "language_info": {
   "codemirror_mode": {
    "name": "ipython",
    "version": 3
   },
   "file_extension": ".py",
   "mimetype": "text/x-python",
   "name": "python",
   "nbconvert_exporter": "python",
   "pygments_lexer": "ipython3",
   "version": "3.11.0"
  },
  "widgets": {
   "application/vnd.jupyter.widget-state+json": {
    "state": {},
    "version_major": 2,
    "version_minor": 0
   }
  }
 },
 "nbformat": 4,
 "nbformat_minor": 4
}
